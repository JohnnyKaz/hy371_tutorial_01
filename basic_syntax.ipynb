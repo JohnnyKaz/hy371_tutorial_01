{
 "cells": [
  {
   "cell_type": "markdown",
   "metadata": {},
   "source": [
    "# Ψηφιακή Επεξεργασία Εικόνων ~ ΗΥ-371\n",
    "## Φροντιστήριο 1: Εισαγωγή στην Python (03/10/2023)\n",
    "### Βοηθός Μαθήματος: Ιωάννης Καζιάλες ~ kaziales@csd.uoc.gr\n",
    "---"
   ]
  },
  {
   "cell_type": "markdown",
   "metadata": {},
   "source": [
    "Σε αυτό το αρχείο θα δούμε ορισμένα παραδείγματα κώδικα για να κατανοήσουμε τις βασικές έννοιες της python"
   ]
  },
  {
   "cell_type": "markdown",
   "metadata": {},
   "source": [
    "## Βασικοί τύποι μεταβλητών\n",
    "Η python υποστηρίζει ακέραιους αριθμούς `int`, αριθμούς κινητής υποδιαστολής `float`, λογικές τιμές `bool` και συμβολοσειρές (strings) `str` "
   ]
  },
  {
   "cell_type": "code",
   "execution_count": 1,
   "metadata": {},
   "outputs": [
    {
     "name": "stdout",
     "output_type": "stream",
     "text": [
      "str3= \"φράση\" με escape character\n",
      "str4= 'φράση' με άλλα εισαγωγικά\n",
      "str5= ειδικοί \n",
      "χαρακτήρες\n"
     ]
    }
   ],
   "source": [
    "# ints\n",
    "int1 = 136\n",
    "int2: int = -8\n",
    "\n",
    "# floats\n",
    "float1 = 3.1415\n",
    "float2 = -1.89\n",
    "float3: float = 2.48e4 # = 2.48 * 10^4 = 24800    \n",
    "\n",
    "# bools\n",
    "bool1 = True\n",
    "bool2: bool = False\n",
    "\n",
    "# strs\n",
    "str1 = \"Με διπλά εισαγωγικά\"\n",
    "str2 = 'Με μονά εισαγωγικά'\n",
    "str3 = \"\\\"φράση\\\" με escape character\"\n",
    "str4 = \"'φράση' με άλλα εισαγωγικά\"\n",
    "str5: str = \"ειδικοί \\nχαρακτήρες\"\n",
    "\n",
    "print(\"str3=\", str3)\n",
    "print(\"str4=\", str4)\n",
    "print(\"str5=\", str5)"
   ]
  },
  {
   "cell_type": "markdown",
   "metadata": {},
   "source": [
    "## Μετατροπές Τύπων"
   ]
  },
  {
   "cell_type": "code",
   "execution_count": 2,
   "metadata": {},
   "outputs": [
    {
     "name": "stdout",
     "output_type": "stream",
     "text": [
      "int(\"1305\") = 1305\n",
      "float(\"3.14\") = 3.14\n",
      "int(39.99) = 39\n",
      "str(371) = '371'\n",
      "str(-3.14) = '-3.14'\n"
     ]
    }
   ],
   "source": [
    "print(f'{int(\"1305\") = }')\n",
    "print(f'{float(\"3.14\") = }')\n",
    "print(f'{int(39.99) = }')\n",
    "print(f'{str(371) = }')\n",
    "print(f'{str(-3.14) = }')"
   ]
  },
  {
   "cell_type": "markdown",
   "metadata": {},
   "source": [
    "## Σύνθετοι Τύποι\n",
    "\n",
    "Πέρα από τους βασικούς τύπους, η python υποστηρίζει λίστες (`list`), tuples (`tuple`), λεξικά (`dict`) και σύνολα (`set`)"
   ]
  },
  {
   "cell_type": "code",
   "execution_count": 3,
   "metadata": {},
   "outputs": [
    {
     "name": "stdout",
     "output_type": "stream",
     "text": [
      "<class 'tuple'> (3.14,)\n",
      "<class 'float'> 3.14\n"
     ]
    }
   ],
   "source": [
    "# lists\n",
    "L1 = [1, 2, 3]\n",
    "L2 = [1, \"string\", True]\n",
    "L3 = [L1, L2]\n",
    "L4 = []\t# άδεια λίστα\n",
    "\n",
    "# tuples\n",
    "t1 = (1, 2, 3)\n",
    "t2 = (1, \"string\", True)\n",
    "t4 = ()                     # άδειο tuple\n",
    "t3 = (\"ένα αντικείμενο\",)   # χρειάζεται , για να είναι tuple\n",
    "\n",
    "# Προσοχή\n",
    "var_tuple = (3.14,) # tuple με ένα στοιχείο\n",
    "var_float = (3.14)\t# χωρίς , είναι ένα float\n",
    "\n",
    "print(type(var_tuple), var_tuple)\n",
    "print(type(var_float), var_float)"
   ]
  },
  {
   "cell_type": "code",
   "execution_count": 4,
   "metadata": {},
   "outputs": [
    {
     "name": "stdout",
     "output_type": "stream",
     "text": [
      "s2={1, 'string'}\n",
      "d2={1: 'ένα', 2: 'δύο'}\n"
     ]
    }
   ],
   "source": [
    "# sets\n",
    "s1 = {1, 2, 2, 3} # {1, 2, 3}\n",
    "s2 = {1, \"string\", True}\n",
    "s3 = set()\t# άδειo σύνολο\n",
    "\n",
    "# dicts\n",
    "d1 = {\"όνομα\":\"Γιάννης\", \"ηλικία\":23} \n",
    "d2 = {1:\"ένα\", 2:\"δύο\"}\n",
    "d3 = {t1:12, True:\"str\", 1: False}\n",
    "d4 = {} # άδειο dict\n",
    "\n",
    "# Προσοχή: {} είναι άδειο λεξικό, όχι σύνολο\n",
    "print(f\"{s2=}\")\n",
    "print(f\"{d2=}\")"
   ]
  },
  {
   "cell_type": "markdown",
   "metadata": {},
   "source": [
    "## Τελεστές"
   ]
  },
  {
   "cell_type": "code",
   "execution_count": 5,
   "metadata": {},
   "outputs": [
    {
     "name": "stdout",
     "output_type": "stream",
     "text": [
      "c=46.56 d=-22.560000000000002 e=93.12 f=1.2 g=1 h=2 a=26\n"
     ]
    }
   ],
   "source": [
    "a = 12\n",
    "b = 34.56\n",
    "c = a + b       # c = 46.56\n",
    "d = a - b       # d = -22.56\n",
    "e = (a + b) * 2 # e = 93.12\n",
    "f = a / 10      # f = 1.2\n",
    "g = a // 10     # g = 1\n",
    "h = a % 10      # h = 2\n",
    "a += 5          # a = 17\n",
    "a -= 4          # a = 13\n",
    "a *= 2          # a = 26\n",
    "\n",
    "print(f\"{c=} {d=} {e=} {f=} {g=} {h=} {a=}\")"
   ]
  },
  {
   "cell_type": "code",
   "execution_count": 6,
   "metadata": {},
   "outputs": [
    {
     "name": "stdout",
     "output_type": "stream",
     "text": [
      "b1=True b2=True b3=False b4=True b5=True b6=True b7=True b8=False b9=False\n"
     ]
    }
   ],
   "source": [
    "s = \"Hello\"\n",
    "s2 = s + \"371\"      # s2 = \"Hello371\"\n",
    "s += \" world\"       # s = \"Hello world\"\n",
    "\n",
    "a, b = 18, 34.56\n",
    "b1 = a == 18        # b1 = True\n",
    "b2 = b > 34         # b2 = True\n",
    "b3 = s == \"Hi\"      # b3 = False\n",
    "b4 = s > \"Alpha\"    # b4 = True\n",
    "b5 = not b3         # b5 = True\n",
    "b6 = b1 and b2      # b6 = True\n",
    "b7 = b1 or b3       # b7 = True\n",
    "b8 = b1 and b3      # b8 = False\n",
    "b9 = a<10 and b7    # b9 = False\n",
    "\n",
    "print(f\"{b1=} {b2=} {b3=} {b4=} {b5=} {b6=} {b7=} {b8=} {b9=}\")"
   ]
  },
  {
   "cell_type": "markdown",
   "metadata": {},
   "source": [
    "## Πράξεις και τελεστές για ακολουθίες"
   ]
  },
  {
   "cell_type": "code",
   "execution_count": 7,
   "metadata": {},
   "outputs": [
    {
     "name": "stdout",
     "output_type": "stream",
     "text": [
      "x=5\n",
      "L1=[1, 2]\n",
      "L2=[1, 2, 3]\n",
      "L3=[0, 1, 2, 3]\n",
      "L4=[1, 3]\n",
      "L5=[3, 2, 1, 0]\n",
      "L6=[1, 2, 1, 3]\n",
      "L7=[1, 2, 1, 2]\n",
      "l=4\n",
      "b1=True\n",
      "b2=False\n"
     ]
    }
   ],
   "source": [
    "L = [0, 1, 2, 3]\n",
    "\n",
    "# indexing\n",
    "x  = L[2] + L[-1]    # x = 2 + 3 = 5\n",
    "\n",
    "# slicing\n",
    "L1 = L[1:3]     # L1=[1, 2]\n",
    "L2 = L[1:]      # L2=[1, 2, 3]\n",
    "L3 = L[:]       # L3=[0, 1, 2, 3]\n",
    "L4 = L[1::2]    # L4=[1, 3]\n",
    "L5 = L[::-1]    # L5=[3, 2, 1, 0]\n",
    "\n",
    "# μήκος\n",
    "l = len(L)      # l = 4\n",
    "\n",
    "# συνένωση\n",
    "L6 = L1 + L4 # L6=[1, 2]+[1, 3]=[1, 2, 1, 3]\n",
    "L7 = 2 * L1  # L7=2*[1, 2]=[1, 2, 1, 2]\n",
    "\n",
    "# υπάρχει ένα στοιχείο στη λίστα?\n",
    "b1 = 1 in L        # b1 = True\n",
    "b2 = 3 not in L    # b2 = False\n",
    "\n",
    "print(f\"{x=}\\n{L1=}\\n{L2=}\\n{L3=}\\n{L4=}\\n{L5=}\\n{L6=}\\n{L7=}\\n{l=}\\n{b1=}\\n{b2=}\")"
   ]
  },
  {
   "cell_type": "code",
   "execution_count": 8,
   "metadata": {},
   "outputs": [
    {
     "name": "stdout",
     "output_type": "stream",
     "text": [
      "[1, 2, 3, 4]\n"
     ]
    }
   ],
   "source": [
    "L = []\n",
    "L.append(1)         # L=[1]\n",
    "L.extend([2, 3, 2]) # L=[1, 2, 3, 2]\n",
    "L.insert(1, 4)      # L=[1, 4, 2, 3, 2]\n",
    "L.remove(2)         # L=[1, 4, 3, 2]\n",
    "L.reverse()         # L=[2, 3, 4, 1]\n",
    "L.sort()            # L=[1, 2, 3, 4]\n",
    "\n",
    "print(L)"
   ]
  },
  {
   "cell_type": "code",
   "execution_count": 9,
   "metadata": {},
   "outputs": [
    {
     "name": "stdout",
     "output_type": "stream",
     "text": [
      "L8=[3, 2, 1, 0]\n",
      "L9=[1, 1, 2, 2]\n",
      "c=2\n",
      "d=3\n"
     ]
    }
   ],
   "source": [
    "L  = [0, 1, 2, 3]\n",
    "L6 = [1, 2, 1, 3]\n",
    "\n",
    "L8 = list(reversed(L))  # L8=[3, 2, 1, 0]\n",
    "L9 = sorted(L7)         # L9=[1, 1, 2, 2]\n",
    "\n",
    "c = L6.count(1)         # c = 2\n",
    "d = L.index(3)          # d = 3\n",
    "\n",
    "print(f\"{L8=}\\n{L9=}\\n{c=}\\n{d=}\")"
   ]
  },
  {
   "cell_type": "code",
   "execution_count": 10,
   "metadata": {},
   "outputs": [
    {
     "name": "stdout",
     "output_type": "stream",
     "text": [
      "s1='og'\n",
      "s2='rrm'\n",
      "s3='lalala'\n",
      "b3=True\n",
      "w=['e', 'h', 'l', 'p']\n",
      "x=['p', 'l', 'h', 'e']\n"
     ]
    }
   ],
   "source": [
    "s = \"Programming\"\n",
    "s1 = s[2] + s[-1]   # s1 = \"og\"\n",
    "s2 = s[1:9:3]       # s2 = \"rrm\"\n",
    "s3 = 3 * \"la\"       # s3 = \"lalala\"\n",
    "b3 = \"a\" in s       # b3 = True\n",
    "w = sorted(\"help\")  # w = [\"e\",\"h\",\"l\",\"p\"]\n",
    "x = sorted(\"help\", reverse = True)  # x=[\"p\",\"l\",\"h\",\"e\"]\n",
    "\n",
    "print(f\"{s1=}\\n{s2=}\\n{s3=}\\n{b3=}\\n{w=}\\n{x=}\")"
   ]
  },
  {
   "cell_type": "markdown",
   "metadata": {},
   "source": [
    "## Εκτέλεση υπό συνθήκη: if-elif-else"
   ]
  },
  {
   "cell_type": "code",
   "execution_count": 11,
   "metadata": {},
   "outputs": [
    {
     "name": "stdout",
     "output_type": "stream",
     "text": [
      "το x είναι θετικό\n"
     ]
    }
   ],
   "source": [
    "x = 5\n",
    "if x > 0:\n",
    "\tprint(\"το x είναι θετικό\")"
   ]
  },
  {
   "cell_type": "markdown",
   "metadata": {},
   "source": [
    "Επανάληψη: `while` και `for` loops"
   ]
  },
  {
   "cell_type": "code",
   "execution_count": 12,
   "metadata": {},
   "outputs": [
    {
     "data": {
      "text/plain": [
       "45"
      ]
     },
     "execution_count": 12,
     "metadata": {},
     "output_type": "execute_result"
    }
   ],
   "source": [
    "s, i = 0, 0\n",
    "while i < 10:\n",
    "\ts = s + i \n",
    "\ti = i + 1\n",
    "# s = 0 + 1 + 2 + ...+ 9 = 45 \n",
    "s"
   ]
  },
  {
   "cell_type": "code",
   "execution_count": 13,
   "metadata": {},
   "outputs": [
    {
     "name": "stdout",
     "output_type": "stream",
     "text": [
      "0\n",
      "1\n",
      "2\n",
      "4\n",
      "5\n"
     ]
    }
   ],
   "source": [
    "i = 0\n",
    "while i < 10:\n",
    "    if i == 3:\n",
    "        i += 1\n",
    "        continue\n",
    "    print(i)\n",
    "    if i == 5:\n",
    "        break\n",
    "    i += 1\n",
    "# τυπώνει 0 1 2 4 5"
   ]
  },
  {
   "cell_type": "code",
   "execution_count": 14,
   "metadata": {},
   "outputs": [],
   "source": [
    "text, counter = \"ενα κειμενο\", 0\n",
    "for char in text:\n",
    "    if char == \"ε\":\n",
    "        counter += 1\n",
    "# counter = 3"
   ]
  },
  {
   "cell_type": "code",
   "execution_count": 15,
   "metadata": {},
   "outputs": [
    {
     "name": "stdout",
     "output_type": "stream",
     "text": [
      "1\n",
      "5\n",
      "31\n"
     ]
    }
   ],
   "source": [
    "numbers = [1, 2, 6, 5, 8, 31, 22]\n",
    "for num in numbers:\n",
    "    if num % 2 != 0:\n",
    "        print(num)\n",
    "# τυπώνει 1 5 31"
   ]
  },
  {
   "cell_type": "code",
   "execution_count": 16,
   "metadata": {},
   "outputs": [
    {
     "name": "stdout",
     "output_type": "stream",
     "text": [
      "1\n",
      "2\n",
      "3\n"
     ]
    }
   ],
   "source": [
    "values = (1, 2, 3)\n",
    "for val in values:\n",
    "    print(val)\n",
    "    val = 0\n",
    "# τυπώνει 1 2 3"
   ]
  },
  {
   "cell_type": "markdown",
   "metadata": {},
   "source": [
    "## `Range` και `Enumerate`"
   ]
  },
  {
   "cell_type": "code",
   "execution_count": 17,
   "metadata": {},
   "outputs": [
    {
     "name": "stdout",
     "output_type": "stream",
     "text": [
      "0 -> 12\n",
      "1 -> 48\n",
      "2 -> 53\n",
      "0 -> 12\n",
      "1 -> 48\n",
      "2 -> 53\n"
     ]
    }
   ],
   "source": [
    "range(4)        # 0, 1, 2, 3\n",
    "range(2, 6)     # 2, 3, 4, 5\n",
    "range(2, 10, 3) # 2, 5, 8\n",
    "range(4, 1, -1) # 4, 3, 2\n",
    "\n",
    "numbers = [12, 48, 53]\n",
    "\n",
    "for i in range(len(numbers)):\n",
    "    print(i, \"->\", numbers[i])\n",
    "\n",
    "for i, num in enumerate(numbers):\n",
    "    print(i, \"->\", num)"
   ]
  },
  {
   "cell_type": "markdown",
   "metadata": {},
   "source": [
    "## Διαφορετικοί τρόποι εκτύπωσης κειμένου με μεταβλητές "
   ]
  },
  {
   "cell_type": "code",
   "execution_count": 18,
   "metadata": {},
   "outputs": [
    {
     "name": "stdout",
     "output_type": "stream",
     "text": [
      "hello world\n",
      "Γειά σου Γιάννη. Είσαι 23 χρονών.\n",
      "Γειά σου Γιάννη . Είσαι 23 χρονών.\n",
      "Γειά σου Γιάννη. Είσαι 23 χρονών.\n",
      "Γειά σου Γιάννη. Είσαι 23 χρονών.\n"
     ]
    }
   ],
   "source": [
    "name = input(\"Πως σε λένε;\")\n",
    "age = int(input(\"Τι ηλικία έχεις;\"))\n",
    "\n",
    "print(\"hello world\")\n",
    "\n",
    "# τα παρακάτω τυπώνουν το ίδιο κείμενο\n",
    "print(\"Γειά σου \" + name + \". Είσαι \" + str(age) + \" χρονών.\") \n",
    "print(\"Γειά σου\", name, \". Είσαι\", age, \"χρονών.\")\n",
    "print(\"Γειά σου {}. Είσαι {} χρονών.\".format(name, age))\n",
    "# καλύτερη μέθοδος : f-strings (python >= 3.6)\n",
    "print(f\"Γειά σου {name}. Είσαι {age} χρονών.\")\n",
    "\n",
    "# πχ, Γειά σου Γιάννη. Είσαι 23 χρονών."
   ]
  },
  {
   "cell_type": "markdown",
   "metadata": {},
   "source": [
    "## Εκτύπωση μέχρι το 2ο δεκαδικό ψηφίο"
   ]
  },
  {
   "cell_type": "code",
   "execution_count": 19,
   "metadata": {},
   "outputs": [
    {
     "name": "stdout",
     "output_type": "stream",
     "text": [
      "4863.4343091\n",
      "4863.43\n"
     ]
    }
   ],
   "source": [
    "x = 4863.4343091\n",
    "print(x)\n",
    "print(f\"{x:.2f}\")"
   ]
  },
  {
   "cell_type": "markdown",
   "metadata": {},
   "source": [
    "## Συναρτήσεις"
   ]
  },
  {
   "cell_type": "code",
   "execution_count": 20,
   "metadata": {},
   "outputs": [
    {
     "name": "stdout",
     "output_type": "stream",
     "text": [
      "Γειά σου, Γιάννη!\n"
     ]
    }
   ],
   "source": [
    "def greet(name):\n",
    "    print(f\"Γειά σου, {name}!\")\n",
    "\n",
    "def add(x, y):\n",
    "    return x + y\n",
    "\n",
    "def add_and_multiply(x, y):\n",
    "    sum = x + y\n",
    "    product = x * y\n",
    "    return sum, product\n",
    "\n",
    "greet(\"Γιάννη\")                         # δεν επιστρέφει τίποτα\n",
    "sum = add(3, 5)                         # επιστρέφει 8\n",
    "sum, product = add_and_multiply(3, 6)   # επιστρέφει 9, 18"
   ]
  },
  {
   "cell_type": "code",
   "execution_count": 21,
   "metadata": {},
   "outputs": [
    {
     "name": "stdout",
     "output_type": "stream",
     "text": [
      "Γειά σου, Γιάννη!\n"
     ]
    }
   ],
   "source": [
    "def greet(name:str):\n",
    "    \"\"\"\n",
    "    greets a person by their name\n",
    "    Input: name (str)\n",
    "    \"\"\"\n",
    "    print(f\"Γειά σου, {name}!\")\n",
    "\n",
    "def add(x:int, y:int) -> int:\n",
    "    \"\"\"\n",
    "    adds two numbers and returns their sum\n",
    "    Input: \n",
    "        - x (int)\n",
    "        - y (int)\n",
    "    Output: x + y (int)\n",
    "    \"\"\"\n",
    "    return x + y\n",
    "\n",
    "def perform_operations(x:int, y:int) -> tuple:\n",
    "    \"\"\"\n",
    "    performs basic arithmetic operations on two numbers\n",
    "    Input: \n",
    "        - x (int)\n",
    "        - y (int)\n",
    "    Output:\n",
    "        - sum (int)         - x + y\n",
    "        - product (int)     - x * y\n",
    "        - difference (int)  - x - y\n",
    "        - quotient (float)  - x / y\n",
    "    \"\"\"\n",
    "    sum = x + y\n",
    "    product = x * y\n",
    "    difference = x - y\n",
    "    quotient = x / y\n",
    "    return sum, product, difference, quotient\n",
    "\n",
    "greet(\"Γιάννη\")\n",
    "sum = add(3, 5)\n",
    "sum2, product, difference, quotient = perform_operations(3, 5)\n"
   ]
  },
  {
   "cell_type": "markdown",
   "metadata": {},
   "source": [
    "## List comprehensions"
   ]
  },
  {
   "cell_type": "code",
   "execution_count": 22,
   "metadata": {},
   "outputs": [
    {
     "name": "stdout",
     "output_type": "stream",
     "text": [
      "[1, 4, 9, 16, 25, 36, 49, 64, 81, 100, 121, 144, 169, 196, 225, 256, 289, 324, 361, 400]\n"
     ]
    }
   ],
   "source": [
    "# τετράγωνα για τους αριθμούς στο [1,20]\n",
    "\n",
    "# 1ος τρόπος: επανάληψη\n",
    "squares = []\n",
    "for i in range(1, 21):\n",
    "    squares.append(i**2)\n",
    "\n",
    "# 2ος τρόπος: list comprehension\n",
    "squares=[i**2 for i in range(1,21)]\n",
    "\n",
    "print(squares)"
   ]
  },
  {
   "cell_type": "code",
   "execution_count": 23,
   "metadata": {},
   "outputs": [
    {
     "name": "stdout",
     "output_type": "stream",
     "text": [
      "[4, 16, 36, 64, 100, 144, 196, 256, 324, 400]\n"
     ]
    }
   ],
   "source": [
    "# τετράγωνα για τους ζυγούς αριθμούς στο [1,20]\n",
    "# 1ος τρόπος: επανάληψη\n",
    "squares = []\n",
    "for i in range(1, 21):\n",
    "    if i % 2 == 0:\n",
    "        squares.append(i**2)\n",
    "\n",
    "# 2ος τρόπος: list comprehension\n",
    "squares=[i**2 for i in range(1,21) if i%2 == 0]\n",
    "\n",
    "print(squares)"
   ]
  },
  {
   "cell_type": "code",
   "execution_count": 24,
   "metadata": {},
   "outputs": [
    {
     "name": "stdout",
     "output_type": "stream",
     "text": [
      "[(2, 1), (2, 3), (2, 5), (4, 1), (4, 3), (4, 5), (6, 1), (6, 3), (6, 5)]\n"
     ]
    }
   ],
   "source": [
    "# όλα τα ζευγάρια για ζυγό x∈[1,6], και μονό y∈[1,6]\n",
    "pairs = [(x, y) for x in range(1, 7) for y in range(1, 7) if x%2 == 0 and y%2 == 1]\n",
    "# pairs = [(2, 1), (2, 3), (2, 5), (4, 1), (4, 3), (4, 5), (6, 1), (6, 3), (6, 5)]\n",
    "\n",
    "print(pairs)"
   ]
  },
  {
   "cell_type": "code",
   "execution_count": null,
   "metadata": {},
   "outputs": [],
   "source": []
  }
 ],
 "metadata": {
  "kernelspec": {
   "display_name": "base",
   "language": "python",
   "name": "python3"
  },
  "language_info": {
   "codemirror_mode": {
    "name": "ipython",
    "version": 3
   },
   "file_extension": ".py",
   "mimetype": "text/x-python",
   "name": "python",
   "nbconvert_exporter": "python",
   "pygments_lexer": "ipython3",
   "version": "3.9.12"
  },
  "orig_nbformat": 4
 },
 "nbformat": 4,
 "nbformat_minor": 2
}
